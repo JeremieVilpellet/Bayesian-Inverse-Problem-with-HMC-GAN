{
  "nbformat": 4,
  "nbformat_minor": 0,
  "metadata": {
    "colab": {
      "provenance": []
    },
    "kernelspec": {
      "name": "python3",
      "display_name": "Python 3"
    },
    "language_info": {
      "name": "python"
    }
  },
  "cells": [
    {
      "cell_type": "markdown",
      "source": [
        "Select HMC.py and Model.py, generator_opt_w.pt, data_file.pt"
      ],
      "metadata": {
        "id": "vi3dO3wgqFUY"
      }
    },
    {
      "cell_type": "code",
      "source": [
        "from google.colab import files\n",
        "uploaded = files.upload()"
      ],
      "metadata": {
        "id": "J40rnM72qLw4"
      },
      "execution_count": null,
      "outputs": []
    },
    {
      "cell_type": "markdown",
      "source": [
        "Installation of the Hamiltorch package from a git repo (hence this notebook will work under Linux, if you dont have the easiest way is to use google colab)"
      ],
      "metadata": {
        "id": "6yXzSmq3qOn7"
      }
    },
    {
      "cell_type": "code",
      "source": [
        "!pip install git+https://github.com/AdamCobb/hamiltorch.git"
      ],
      "metadata": {
        "id": "X-1y2IsfqRpN"
      },
      "execution_count": null,
      "outputs": []
    },
    {
      "cell_type": "code",
      "source": [
        "import torch\n",
        "import hamiltorch\n",
        "import numpy as np\n",
        "import matplotlib.pyplot as plt\n",
        "from HMC import latent_posterior, hamiltonian_MC, compute_MAP\n",
        "from model_file import Generator"
      ],
      "metadata": {
        "id": "y-KuFS2sIczg"
      },
      "execution_count": null,
      "outputs": []
    },
    {
      "cell_type": "code",
      "source": [
        "def observation_operator(data):\n",
        "\n",
        "    sensor_coords = [(x, y) for x in range(0,50,5) for y in range(0,50,5)]\n",
        "    v1 = data[0]  # (50,50)\n",
        "    obs_values = []\n",
        "    for (x, y) in sensor_coords:\n",
        "        obs_values.append(v1[x, y])\n",
        "    obs_values = torch.stack(obs_values)  # shape (N_y,)\n",
        "    return obs_values\n",
        "\n",
        "\n",
        "def add_noise_to_data(obs, noise_mean, noise_std):\n",
        "    obs_noise = torch.normal(mean=noise_mean, std=noise_std)\n",
        "    obs += obs_noise\n",
        "    return obs"
      ],
      "metadata": {
        "id": "TcXduKDvqZZx"
      },
      "execution_count": null,
      "outputs": []
    },
    {
      "cell_type": "code",
      "source": [
        "device = torch.device('cuda' if torch.cuda.is_available() else 'cpu')\n",
        "print(f'Running on {device}')\n",
        "\n",
        "generator = Generator(z_dim=150).to(device)\n",
        "generator.load_state_dict(torch.load(\"generator_opt_w.pt\"))\n",
        "generator.eval()\n",
        "\n",
        "#retrieve true_datas\n",
        "state_path = 'data_file.pt'\n",
        "true_state =  torch.load(state_path).to(device)  # (4,50,50)\n",
        "\n",
        "observations = observation_operator(true_state)\n",
        "observations = observations.to(device)\n",
        "\n",
        "# Construct Y (the noisy observation/measurement from the true data)\n",
        "obs_std = 1e-1\n",
        "noise_mean = torch.zeros_like(observations, device=device) #vecteur\n",
        "noise_std = obs_std * torch.ones_like(observations, device=device) #vecteur mais mat cov ?\n",
        "observations = add_noise_to_data(observations, noise_mean, noise_std)\n",
        "\n",
        "# MAP\n",
        "z_init = torch.randn(1, 150, requires_grad=True, device=device)\n",
        "z_map = compute_MAP(z=z_init,\n",
        "                    observations=observations,\n",
        "                    generator=generator,\n",
        "                    obs_operator=lambda x: observation_operator(x),\n",
        "                    obs_std=obs_std,\n",
        "                    num_iters=500)\n",
        "\n",
        "\n",
        "obs_error = torch.linalg.norm(observations - observation_operator(generator(z_map)[0])) / torch.linalg.norm(observations)\n",
        "full_error = torch.linalg.norm(true_state - generator(z_map)[0]) / torch.linalg.norm(true_state)\n",
        "print(f'Observation error: {obs_error:0.4f}')\n",
        "print(f'Full error: {full_error:0.4f}')\n",
        "\n",
        "# HMC\n",
        "posterior_params = {\n",
        "    'generator': generator,\n",
        "    'obs_operator': lambda x: observation_operator(x),\n",
        "    'observations': observations,\n",
        "    'prior_mean': torch.zeros(150, device=device),\n",
        "    'prior_std': torch.ones(150, device=device),\n",
        "    'noise_mean': noise_mean,\n",
        "    'noise_std': noise_std\n",
        "}\n",
        "\n",
        "HMC_params = {\n",
        "    'num_samples': 20000,\n",
        "    'step_size': 0.5,\n",
        "    'num_steps_per_sample': 5,\n",
        "    'burn': 12000,\n",
        "    'integrator': hamiltorch.Integrator.IMPLICIT,\n",
        "    'sampler': hamiltorch.Sampler.HMC_NUTS,\n",
        "    'desired_accept_rate': 0.3\n",
        "}\n",
        "\n",
        "z_samples = hamiltonian_MC(z_init=torch.squeeze(z_map),\n",
        "                            posterior_params=posterior_params,\n",
        "                            HMC_params=HMC_params)\n",
        "\n",
        "# Now that we have sample sufficiently enough z|y, we can generate u|y with G_theta(z|y)\n",
        "generated_states = []\n",
        "with torch.no_grad():\n",
        "    for z_s in z_samples:\n",
        "        gen_s = generator(z_s.view(1,-1))[0]\n",
        "        generated_states.append(gen_s.cpu().numpy())\n",
        "\n",
        "generated_states = np.array(generated_states)  #(num_samples,4,50,50)\n",
        "mean_field = np.mean(generated_states, axis=0)\n",
        "\n",
        "\n",
        "true_v1 = true_state.detach().cpu().numpy()\n",
        "\n",
        "plt.figure(figsize=(18, 6))\n",
        "\n",
        "plt.subplot(1, 2, 1)\n",
        "plt.imshow(true_v1[0], cmap='jet', origin='lower', extent=[0,1,0,1], vmin = 0, vmax = 2.0)\n",
        "plt.colorbar()\n",
        "plt.title(\"True v1\")\n",
        "\n",
        "plt.subplot(1, 2, 2)\n",
        "plt.imshow(mean_field[0,:,:], cmap='jet', origin='lower', extent=[0,1,0,1], vmin = 0, vmax = 2.0)\n",
        "plt.colorbar()\n",
        "plt.title(\"Mean Generated v1\")\n",
        "\n",
        "plt.tight_layout()\n",
        "plt.show()"
      ],
      "metadata": {
        "id": "qlgZyUB7qfGp"
      },
      "execution_count": null,
      "outputs": []
    }
  ]
}